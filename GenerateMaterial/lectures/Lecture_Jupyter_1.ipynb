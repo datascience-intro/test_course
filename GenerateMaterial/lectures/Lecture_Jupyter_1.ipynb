{
 "cells": [
  {
   "cell_type": "markdown",
   "id": "a9e85e34",
   "metadata": {
    "deletable": false
   },
   "source": [
    "# Scalable Data Science and Distributed Machine Learning, Year 2022 (54514)\n",
    "### ScaDaMaLe Course [Site](https://lamastex.github.io/scalable-data-science/sds/3/x/) and [book](https://lamastex.github.io/ScaDaMaLe/index.html)     \n",
    "2022 Raazesh Sainudiin. [Attribution 4.0 International     (CC BY 4.0)](https://creativecommons.org/licenses/by/4.0/)"
   ]
  },
  {
   "cell_type": "markdown",
   "metadata": {
    "application/vnd.databricks.v1+cell": {
     "inputWidgets": {},
     "nuid": "7eff542b-8e7f-434a-829d-20ce0fa52459",
     "showTitle": false,
     "title": ""
    }
   },
   "source": [
    "# Example of Master Notebook\n",
    "\n",
    "\n",
    "This notebook is just an example of a master notebook for a Jupyter notebook.<br>\n",
    "This markdown cell is a lecture cell as it does not have any tag in the first line.\n",
    "\n",
    "You can add lecture notes in markdown cells or code cells as desired without any tags.\n",
    "\n",
    "> This cell is extracted to a lecture notebook."
   ]
  },
  {
   "cell_type": "markdown",
   "metadata": {
    "application/vnd.databricks.v1+cell": {
     "inputWidgets": {},
     "nuid": "d1d8ec40-3f0f-44ff-b7e1-4e8fcf6199d2",
     "showTitle": false,
     "title": ""
    }
   },
   "source": [
    "##### Note !\n",
    "\n",
    "In this notebook, together with the other Jupyter notebook, there are 2 assignments, each of which has 2 problems.\n",
    "\n",
    "However, we intentionally put **Assignment 1 problem 1 and 2, and also Assignment 2 problem 1** in this notebook,<br>\n",
    "while we put Assignment 2 problem 2 in the other notebook.\n",
    "\n",
    "The reason for this is to show you that when we generate an assignment notebook, for example, for Assignment 2,<br>\n",
    "the system can generate a new notebook that includes problem 1 and problem 2 of Assignment 2 from these two master notebooks.<br>\n",
    "In other words, problems in the same assignment can be put in separate master notebooks.\n",
    "\n",
    "> This cell is extracted to a lecture notebook."
   ]
  },
  {
   "cell_type": "markdown",
   "metadata": {
    "application/vnd.databricks.v1+cell": {
     "inputWidgets": {},
     "nuid": "f319b700-ad21-4e36-b39f-d1c088406597",
     "showTitle": false,
     "title": ""
    }
   },
   "source": [
    "## This starts the first lecture part.\n",
    "\n",
    "Add anything here for a lecture.\n",
    "\n",
    "> This cell is extracted to a lecture notebook."
   ]
  },
  {
   "cell_type": "markdown",
   "metadata": {
    "application/vnd.databricks.v1+cell": {
     "inputWidgets": {},
     "nuid": "e4831746-d131-4c89-beb3-c15a983ec35f",
     "showTitle": false,
     "title": ""
    }
   },
   "source": [
    "This is another lecture cell.\n",
    "\n",
    "> This cell is extracted to a lecture notebook."
   ]
  },
  {
   "cell_type": "code",
   "execution_count": 0,
   "metadata": {
    "application/vnd.databricks.v1+cell": {
     "inputWidgets": {},
     "nuid": "45e3f6ec-cfb6-40f6-b3a0-e76241eaea4e",
     "showTitle": false,
     "title": ""
    }
   },
   "outputs": [],
   "source": [
    "# You can add some codes here for students to play along.\n",
    "# You can add more Python cells if you want.\n",
    "# code goes here\n",
    "#\n",
    "# This cell is extracted to a lecture notebook."
   ]
  },
  {
   "cell_type": "markdown",
   "metadata": {
    "application/vnd.databricks.v1+cell": {
     "inputWidgets": {},
     "nuid": "d0f8d9a5-d5d3-4470-bcf1-1e94c23f8bbd",
     "showTitle": false,
     "title": ""
    }
   },
   "source": [
    "## This starts the second lecture part.\n",
    "\n",
    "Add anything here for a lecture.\n",
    "\n",
    "> This cell is extracted to a lecture notebook."
   ]
  },
  {
   "cell_type": "markdown",
   "metadata": {
    "application/vnd.databricks.v1+cell": {
     "inputWidgets": {},
     "nuid": "00e18c5e-faac-47b0-b91a-324ec4d5debf",
     "showTitle": false,
     "title": ""
    }
   },
   "source": [
    "This is another lecture cell.\n",
    "\n",
    "> This cell is extracted to a lecture notebook."
   ]
  },
  {
   "cell_type": "code",
   "execution_count": 0,
   "metadata": {
    "application/vnd.databricks.v1+cell": {
     "inputWidgets": {},
     "nuid": "6cccba3f-cb7c-4153-94fb-40176872c441",
     "showTitle": false,
     "title": ""
    }
   },
   "outputs": [],
   "source": [
    "# You can add some codes here for students to play along.\n",
    "# You can add more Python cells if you want.\n",
    "# code goes here\n",
    "#\n",
    "# This cell is extracted to a lecture notebook."
   ]
  },
  {
   "cell_type": "markdown",
   "metadata": {
    "application/vnd.databricks.v1+cell": {
     "inputWidgets": {},
     "nuid": "e0793d47-8329-4bf3-a193-110d36b319df",
     "showTitle": false,
     "title": ""
    }
   },
   "source": [
    "## This starts the third lecture part.\n",
    "\n",
    "Add anything here for a lecture.\n",
    "\n",
    "> This cell is extracted to a lecture notebook."
   ]
  },
  {
   "cell_type": "markdown",
   "metadata": {
    "application/vnd.databricks.v1+cell": {
     "inputWidgets": {},
     "nuid": "993ab5b8-650e-4d86-82aa-1f6df1e1e6bc",
     "showTitle": false,
     "title": ""
    }
   },
   "source": [
    "This is another lecture cell.\n",
    "\n",
    "> This cell is extracted to a lecture notebook."
   ]
  },
  {
   "cell_type": "code",
   "execution_count": 0,
   "metadata": {
    "application/vnd.databricks.v1+cell": {
     "inputWidgets": {},
     "nuid": "f3da74d1-d449-4f0f-907d-d9d8281e4e27",
     "showTitle": false,
     "title": ""
    }
   },
   "outputs": [],
   "source": [
    "# You can add some codes here for students to play along.\n",
    "# You can add more Python cells if you want.\n",
    "# code goes here\n",
    "#\n",
    "# This cell is extracted to a lecture notebook."
   ]
  }
 ],
 "metadata": {
  "application/vnd.databricks.v1+notebook": {
   "dashboards": [],
   "language": "python",
   "notebookMetadata": {
    "pythonIndentUnit": 4
   },
   "notebookName": "Master_Notebook_Example_Jupyter_1",
   "notebookOrigID": 709681751931465,
   "widgets": {}
  },
  "lx_course_instance": "2022",
  "lx_course_name": "Scalable Data Science and Distributed Machine Learning",
  "lx_course_number": "54514"
 },
 "nbformat": 4,
 "nbformat_minor": 0
}
