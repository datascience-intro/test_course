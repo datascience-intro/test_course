{
 "cells": [
  {
   "cell_type": "markdown",
   "id": "e2ddfc16",
   "metadata": {
    "deletable": false
   },
   "source": [
    "%md\n",
    "# Assignment 1 for Course 54514\n",
    "Make sure you pass the `# ... Test` cells and\n",
    " submit your solution notebook in the corresponding assignment on the course website. You can submit multiple times before the deadline and your highest score will be used."
   ]
  },
  {
   "cell_type": "markdown",
   "id": "dda7e83f",
   "metadata": {
    "application/vnd.databricks.v1+cell": {
     "inputWidgets": {},
     "nuid": "37790342-775f-4dc2-9854-5ee280663d78",
     "showTitle": false,
     "title": ""
    },
    "deletable": false,
    "lx_assignment_number": "1",
    "lx_assignment_type": "ASSIGNMENT",
    "lx_assignment_type2print": "Assignment",
    "lx_problem_cell_type": "PROBLEM",
    "lx_problem_number": "1",
    "lx_problem_points": "1"
   },
   "source": [
    "---\n",
    "## Assignment 1, PROBLEM 1\n",
    "Maximum Points = 1"
   ]
  },
  {
   "cell_type": "markdown",
   "id": "84203de8",
   "metadata": {
    "application/vnd.databricks.v1+cell": {
     "inputWidgets": {},
     "nuid": "37790342-775f-4dc2-9854-5ee280663d78",
     "showTitle": false,
     "title": ""
    },
    "deletable": false,
    "lx_assignment_number": "1",
    "lx_assignment_type": "ASSIGNMENT",
    "lx_assignment_type2print": "Assignment",
    "lx_problem_cell_type": "PROBLEM",
    "lx_problem_number": "1",
    "lx_problem_points": "1"
   },
   "source": [
    "### Let us use SageMath\n",
    "\n",
    "Use sagemath to multiply key and its value, and put them in a list\n",
    "\n",
    "> You also need to tag a markdown cell for a problem cell.<br>\n",
    "> All the tags will be later removed after notebook extraction."
   ]
  },
  {
   "cell_type": "code",
   "execution_count": 0,
   "id": "20fa800e",
   "metadata": {
    "application/vnd.databricks.v1+cell": {
     "inputWidgets": {},
     "nuid": "9d8abd59-31f5-4231-90e3-7bb688c7354d",
     "showTitle": false,
     "title": ""
    },
    "deletable": false,
    "lx_assignment_number": "1",
    "lx_assignment_type": "ASSIGNMENT",
    "lx_assignment_type2print": "Assignment",
    "lx_problem_cell_type": "PROBLEM",
    "lx_problem_number": "1",
    "lx_problem_points": "1",
    "scrolled": false
   },
   "outputs": [],
   "source": [
    "# This is a cell where students fill in answers or codes.\n",
    "\n",
    "dict = {1:2, 3:4, 5:6}\n",
    "# multiply_list = <<Fill-In-Here>> #Uncomment this line and replace <<Fill-In-Here>> with the correct operation\n",
    "\n",
    "print(multiply_list)"
   ]
  },
  {
   "cell_type": "markdown",
   "id": "a10c1b67",
   "metadata": {
    "application/vnd.databricks.v1+cell": {
     "inputWidgets": {},
     "nuid": "6d9abfdd-2441-40f4-aec2-7917f3a4541b",
     "showTitle": false,
     "title": ""
    },
    "deletable": false,
    "lx_assignment_number": "1",
    "lx_assignment_type": "ASSIGNMENT",
    "lx_assignment_type2print": "Assignment",
    "lx_problem_cell_type": "Test",
    "lx_problem_number": "1",
    "lx_problem_points": "1",
    "scrolled": false
   },
   "source": [
    "---\n",
    "#### Local Test for Assignment 1, PROBLEM 1\n",
    "Evaluate cell below to make sure your answer is valid.                                 You **should not** modify anything in the cell below when evaluating it to do a local test of                                 your solution.\n",
    "You may need to include and evaluate code snippets from lecture notebooks in cells above to make the local test work correctly sometimes (see error messages for clues). This is meant to help you become efficient at recalling materials covered in lectures that relate to this problem. Such local tests will generally not be available in the exam."
   ]
  },
  {
   "cell_type": "code",
   "execution_count": 0,
   "id": "ecf215c8",
   "metadata": {
    "application/vnd.databricks.v1+cell": {
     "inputWidgets": {},
     "nuid": "6d9abfdd-2441-40f4-aec2-7917f3a4541b",
     "showTitle": false,
     "title": ""
    },
    "deletable": false,
    "lx_assignment_number": "1",
    "lx_assignment_type": "ASSIGNMENT",
    "lx_assignment_type2print": "Assignment",
    "lx_problem_cell_type": "Test",
    "lx_problem_number": "1",
    "lx_problem_points": "1",
    "scrolled": false
   },
   "outputs": [],
   "source": [
    "# This is a cell where students have to run to check whether their answers are in correct formats or not.\n",
    "# Don't change anything here.\n",
    "\n",
    "try:\n",
    "  assert(isinstance(multiply_list, list))\n",
    "  print(\"Your answer is in a valid format. Hopefully, it is correct.\\n\")\n",
    "except:\n",
    "  print(\"Try again! Please make sure you produce a correct output for the problem.\\n\")"
   ]
  },
  {
   "cell_type": "markdown",
   "id": "a5e95250",
   "metadata": {
    "application/vnd.databricks.v1+cell": {
     "inputWidgets": {},
     "nuid": "27a24910-085e-4dda-8305-2d44444ecd57",
     "showTitle": false,
     "title": ""
    },
    "deletable": false,
    "lx_assignment_number": "1",
    "lx_assignment_type": "ASSIGNMENT",
    "lx_assignment_type2print": "Assignment",
    "lx_problem_cell_type": "SOLUTION",
    "lx_problem_number": "1",
    "lx_problem_points": "1",
    "scrolled": false
   },
   "source": [
    "---\n",
    "## Assignment 1, SOLUTION 1\n",
    "Maximum Points = 1"
   ]
  },
  {
   "cell_type": "code",
   "execution_count": 0,
   "id": "5de0a6f3",
   "metadata": {
    "application/vnd.databricks.v1+cell": {
     "inputWidgets": {},
     "nuid": "27a24910-085e-4dda-8305-2d44444ecd57",
     "showTitle": false,
     "title": ""
    },
    "deletable": false,
    "lx_assignment_number": "1",
    "lx_assignment_type": "ASSIGNMENT",
    "lx_assignment_type2print": "Assignment",
    "lx_problem_cell_type": "SOLUTION",
    "lx_problem_number": "1",
    "lx_problem_points": "1",
    "scrolled": false
   },
   "outputs": [],
   "source": [
    "# This is a Test cell to keep the solution for a reference.\n",
    "\n",
    "multiply_list = [a*b for a, b in dict.items()]"
   ]
  },
  {
   "cell_type": "markdown",
   "id": "618e8ad9",
   "metadata": {
    "application/vnd.databricks.v1+cell": {
     "inputWidgets": {},
     "nuid": "654dc01d-1979-42ae-abe0-71ff0b6109f1",
     "showTitle": false,
     "title": ""
    },
    "deletable": false,
    "lx_assignment_number": "1",
    "lx_assignment_type": "ASSIGNMENT",
    "lx_assignment_type2print": "Assignment",
    "lx_problem_cell_type": "PROBLEM",
    "lx_problem_number": "2",
    "lx_problem_points": "1"
   },
   "source": [
    "---\n",
    "## Assignment 1, PROBLEM 2\n",
    "Maximum Points = 1"
   ]
  },
  {
   "cell_type": "markdown",
   "id": "2fe40dce",
   "metadata": {
    "application/vnd.databricks.v1+cell": {
     "inputWidgets": {},
     "nuid": "654dc01d-1979-42ae-abe0-71ff0b6109f1",
     "showTitle": false,
     "title": ""
    },
    "deletable": false,
    "lx_assignment_number": "1",
    "lx_assignment_type": "ASSIGNMENT",
    "lx_assignment_type2print": "Assignment",
    "lx_problem_cell_type": "PROBLEM",
    "lx_problem_number": "2",
    "lx_problem_points": "1"
   },
   "source": [
    "### Switch key and value in dictionary\n",
    "\n",
    "Use Python to switch key and value in the dict below."
   ]
  },
  {
   "cell_type": "code",
   "execution_count": 0,
   "id": "597c2711",
   "metadata": {
    "application/vnd.databricks.v1+cell": {
     "inputWidgets": {},
     "nuid": "0bb83ffa-f6c6-42e1-a46a-87f75bb2a24b",
     "showTitle": false,
     "title": ""
    },
    "deletable": false,
    "lx_assignment_number": "1",
    "lx_assignment_type": "ASSIGNMENT",
    "lx_assignment_type2print": "Assignment",
    "lx_problem_cell_type": "PROBLEM",
    "lx_problem_number": "2",
    "lx_problem_points": "1"
   },
   "outputs": [],
   "source": [
    "# This is a cell where students fill in answers or codes.\n",
    "\n",
    "dict = {1:2, 3:4, 5:6}\n",
    "# switched_dict = <<Fill-In-Here>> #Uncomment this line and replace <<Fill-In-Here>> with the correct operation\n",
    "\n",
    "print(switched_dict)"
   ]
  },
  {
   "cell_type": "markdown",
   "id": "802edbfa",
   "metadata": {
    "application/vnd.databricks.v1+cell": {
     "inputWidgets": {},
     "nuid": "ce55caeb-0a45-419b-a4ea-a836349bca9f",
     "showTitle": false,
     "title": ""
    },
    "deletable": false,
    "lx_assignment_number": "1",
    "lx_assignment_type": "ASSIGNMENT",
    "lx_assignment_type2print": "Assignment",
    "lx_problem_cell_type": "Test",
    "lx_problem_number": "2",
    "lx_problem_points": "1"
   },
   "source": [
    "---\n",
    "#### Local Test for Assignment 1, PROBLEM 2\n",
    "Evaluate cell below to make sure your answer is valid.                                 You **should not** modify anything in the cell below when evaluating it to do a local test of                                 your solution.\n",
    "You may need to include and evaluate code snippets from lecture notebooks in cells above to make the local test work correctly sometimes (see error messages for clues). This is meant to help you become efficient at recalling materials covered in lectures that relate to this problem. Such local tests will generally not be available in the exam."
   ]
  },
  {
   "cell_type": "code",
   "execution_count": 0,
   "id": "8ecdc34f",
   "metadata": {
    "application/vnd.databricks.v1+cell": {
     "inputWidgets": {},
     "nuid": "ce55caeb-0a45-419b-a4ea-a836349bca9f",
     "showTitle": false,
     "title": ""
    },
    "deletable": false,
    "lx_assignment_number": "1",
    "lx_assignment_type": "ASSIGNMENT",
    "lx_assignment_type2print": "Assignment",
    "lx_problem_cell_type": "Test",
    "lx_problem_number": "2",
    "lx_problem_points": "1"
   },
   "outputs": [],
   "source": [
    "# This is a cell where students have to run to check whether their answers are in correct formats or not.\n",
    "# Don't change anything here.\n",
    "\n",
    "try:\n",
    "  assert(isinstance(switched_dict, dict))\n",
    "  print(\"Your answer is in a valid format. Hopefully, it is correct.\\n\")\n",
    "except:\n",
    "  print(\"Try again! Please make sure you produce a correct output for the problem.\\n\")"
   ]
  },
  {
   "cell_type": "markdown",
   "id": "a0d691b9",
   "metadata": {
    "application/vnd.databricks.v1+cell": {
     "inputWidgets": {},
     "nuid": "efabb1e0-0392-4fa5-a43c-74c06cabb3e5",
     "showTitle": false,
     "title": ""
    },
    "deletable": false,
    "lx_assignment_number": "1",
    "lx_assignment_type": "ASSIGNMENT",
    "lx_assignment_type2print": "Assignment",
    "lx_problem_cell_type": "SOLUTION",
    "lx_problem_number": "2",
    "lx_problem_points": "1"
   },
   "source": [
    "---\n",
    "## Assignment 1, SOLUTION 2\n",
    "Maximum Points = 1"
   ]
  },
  {
   "cell_type": "code",
   "execution_count": 0,
   "id": "4c2d4ac9",
   "metadata": {
    "application/vnd.databricks.v1+cell": {
     "inputWidgets": {},
     "nuid": "efabb1e0-0392-4fa5-a43c-74c06cabb3e5",
     "showTitle": false,
     "title": ""
    },
    "deletable": false,
    "lx_assignment_number": "1",
    "lx_assignment_type": "ASSIGNMENT",
    "lx_assignment_type2print": "Assignment",
    "lx_problem_cell_type": "SOLUTION",
    "lx_problem_number": "2",
    "lx_problem_points": "1"
   },
   "outputs": [],
   "source": [
    "# This is a Test cell to keep the solution for a reference.\n",
    "\n",
    "switched_dict = {y: x for x, y in dict.items()}"
   ]
  }
 ],
 "metadata": {
  "lx_assignment_number": 1,
  "lx_course_instance": "2022",
  "lx_course_name": "Scalable Data Science and Distributed Machine Learning",
  "lx_course_number": "54514"
 },
 "nbformat": 4,
 "nbformat_minor": 5
}
