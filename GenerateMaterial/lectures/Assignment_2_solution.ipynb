{
 "cells": [
  {
   "cell_type": "markdown",
   "id": "de221b28",
   "metadata": {
    "deletable": false
   },
   "source": [
    "%md\n",
    "# Assignment 2 for Course 54514\n",
    "Make sure you pass the `# ... Test` cells and\n",
    " submit your solution notebook in the corresponding assignment on the course website. You can submit multiple times before the deadline and your highest score will be used."
   ]
  },
  {
   "cell_type": "markdown",
   "id": "90c65a7d",
   "metadata": {
    "application/vnd.databricks.v1+cell": {
     "inputWidgets": {},
     "nuid": "4120acfb-6210-4f99-b7bb-fd8ce9fda31e",
     "showTitle": false,
     "title": ""
    },
    "deletable": false,
    "lx_assignment_number": "2",
    "lx_assignment_type": "ASSIGNMENT",
    "lx_assignment_type2print": "Assignment",
    "lx_problem_cell_type": "SOLUTION",
    "lx_problem_number": "1",
    "lx_problem_points": "1"
   },
   "source": [
    "---\n",
    "## Assignment 2, SOLUTION 1\n",
    "Maximum Points = 1"
   ]
  },
  {
   "cell_type": "code",
   "execution_count": 0,
   "id": "2bac35ad",
   "metadata": {
    "application/vnd.databricks.v1+cell": {
     "inputWidgets": {},
     "nuid": "4120acfb-6210-4f99-b7bb-fd8ce9fda31e",
     "showTitle": false,
     "title": ""
    },
    "deletable": false,
    "lx_assignment_number": "2",
    "lx_assignment_type": "ASSIGNMENT",
    "lx_assignment_type2print": "Assignment",
    "lx_problem_cell_type": "SOLUTION",
    "lx_problem_number": "1",
    "lx_problem_points": "1"
   },
   "outputs": [],
   "source": [
    "# This is a Test cell to keep the solution for a reference.\n",
    "\n",
    "freq_dict = {x:raw_list.count(x) for x in raw_list}"
   ]
  },
  {
   "cell_type": "markdown",
   "id": "e4a878ac",
   "metadata": {
    "application/vnd.databricks.v1+cell": {
     "inputWidgets": {},
     "nuid": "27a24910-085e-4dda-8305-2d44444ecd57",
     "showTitle": false,
     "title": ""
    },
    "deletable": false,
    "lx_assignment_number": "2",
    "lx_assignment_type": "ASSIGNMENT",
    "lx_assignment_type2print": "Assignment",
    "lx_problem_cell_type": "SOLUTION",
    "lx_problem_number": "2",
    "lx_problem_points": "1",
    "scrolled": false
   },
   "source": [
    "---\n",
    "## Assignment 2, SOLUTION 2\n",
    "Maximum Points = 1"
   ]
  },
  {
   "cell_type": "code",
   "execution_count": 0,
   "id": "5ad69e8d",
   "metadata": {
    "application/vnd.databricks.v1+cell": {
     "inputWidgets": {},
     "nuid": "27a24910-085e-4dda-8305-2d44444ecd57",
     "showTitle": false,
     "title": ""
    },
    "deletable": false,
    "lx_assignment_number": "2",
    "lx_assignment_type": "ASSIGNMENT",
    "lx_assignment_type2print": "Assignment",
    "lx_problem_cell_type": "SOLUTION",
    "lx_problem_number": "2",
    "lx_problem_points": "1",
    "scrolled": false
   },
   "outputs": [],
   "source": [
    "# This is a Test cell to keep the solution for a reference.\n",
    "\n",
    "distinct_list = list(set(raw_list))"
   ]
  }
 ],
 "metadata": {
  "lx_assignment_number": 2,
  "lx_course_instance": "2022",
  "lx_course_name": "Scalable Data Science and Distributed Machine Learning",
  "lx_course_number": "54514"
 },
 "nbformat": 4,
 "nbformat_minor": 5
}
