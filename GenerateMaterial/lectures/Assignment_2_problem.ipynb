{
 "cells": [
  {
   "cell_type": "markdown",
   "id": "9a986728",
   "metadata": {
    "deletable": false
   },
   "source": [
    "%md\n",
    "# Assignment 2 for Course 54514\n",
    "Make sure you pass the `# ... Test` cells and\n",
    " submit your solution notebook in the corresponding assignment on the course website. You can submit multiple times before the deadline and your highest score will be used."
   ]
  },
  {
   "cell_type": "markdown",
   "id": "aac0ce82",
   "metadata": {
    "application/vnd.databricks.v1+cell": {
     "inputWidgets": {},
     "nuid": "a042201e-9ce2-4353-b3f1-08069506189d",
     "showTitle": false,
     "title": ""
    },
    "deletable": false,
    "lx_assignment_number": "2",
    "lx_assignment_type": "ASSIGNMENT",
    "lx_assignment_type2print": "Assignment",
    "lx_problem_cell_type": "PROBLEM",
    "lx_problem_number": "1",
    "lx_problem_points": "1"
   },
   "source": [
    "---\n",
    "## Assignment 2, PROBLEM 1\n",
    "Maximum Points = 1"
   ]
  },
  {
   "cell_type": "markdown",
   "id": "1bfb5696",
   "metadata": {
    "application/vnd.databricks.v1+cell": {
     "inputWidgets": {},
     "nuid": "a042201e-9ce2-4353-b3f1-08069506189d",
     "showTitle": false,
     "title": ""
    },
    "deletable": false,
    "lx_assignment_number": "2",
    "lx_assignment_type": "ASSIGNMENT",
    "lx_assignment_type2print": "Assignment",
    "lx_problem_cell_type": "PROBLEM",
    "lx_problem_number": "1",
    "lx_problem_points": "1"
   },
   "source": [
    "\n",
    "Count the frequency of numbers in a list.<br>\n",
    "Then, put result in a list."
   ]
  },
  {
   "cell_type": "code",
   "execution_count": 0,
   "id": "e509dcf8",
   "metadata": {
    "application/vnd.databricks.v1+cell": {
     "inputWidgets": {},
     "nuid": "38dc16ee-ee68-463c-aec6-69aa28abccff",
     "showTitle": false,
     "title": ""
    },
    "deletable": false,
    "lx_assignment_number": "2",
    "lx_assignment_type": "ASSIGNMENT",
    "lx_assignment_type2print": "Assignment",
    "lx_problem_cell_type": "PROBLEM",
    "lx_problem_number": "1",
    "lx_problem_points": "1"
   },
   "outputs": [],
   "source": [
    "# This is a cell where students fill in answers or codes.\n",
    "\n",
    "raw_list = [2,3,3,2,5,10,2,4,4,4,9,10,4,2,9,7,1,6,1,1,1,10,5,8,7,10,4,3,7,2,3,1,6,9,9,6,1,9,6,10,4,5,9,1,2,1,1,10,4,6,1,5,9,3,2,3,8,7,1,3,6,9,7,1,10,4,4,8,1,6,4,2,1,8,6,4,2,2,9,9,7,9,4,7,10,9,2,10,2,8,10,3,4,7,4,6,4,7,5,10]\n",
    "# freq_dict= <<Fill-In-Here>> #Uncomment this line and replace <<Fill-In-Here>> with the correct operation\n",
    "\n",
    "print(freq_dict)"
   ]
  },
  {
   "cell_type": "markdown",
   "id": "ed367ffb",
   "metadata": {
    "application/vnd.databricks.v1+cell": {
     "inputWidgets": {},
     "nuid": "27cdb266-b7cf-4a6a-a710-c6a755573b82",
     "showTitle": false,
     "title": ""
    },
    "deletable": false,
    "lx_assignment_number": "2",
    "lx_assignment_type": "ASSIGNMENT",
    "lx_assignment_type2print": "Assignment",
    "lx_problem_cell_type": "Test",
    "lx_problem_number": "1",
    "lx_problem_points": "1"
   },
   "source": [
    "---\n",
    "#### Local Test for Assignment 2, PROBLEM 1\n",
    "Evaluate cell below to make sure your answer is valid.                                 You **should not** modify anything in the cell below when evaluating it to do a local test of                                 your solution.\n",
    "You may need to include and evaluate code snippets from lecture notebooks in cells above to make the local test work correctly sometimes (see error messages for clues). This is meant to help you become efficient at recalling materials covered in lectures that relate to this problem. Such local tests will generally not be available in the exam."
   ]
  },
  {
   "cell_type": "code",
   "execution_count": 0,
   "id": "bf4f150a",
   "metadata": {
    "application/vnd.databricks.v1+cell": {
     "inputWidgets": {},
     "nuid": "27cdb266-b7cf-4a6a-a710-c6a755573b82",
     "showTitle": false,
     "title": ""
    },
    "deletable": false,
    "lx_assignment_number": "2",
    "lx_assignment_type": "ASSIGNMENT",
    "lx_assignment_type2print": "Assignment",
    "lx_problem_cell_type": "Test",
    "lx_problem_number": "1",
    "lx_problem_points": "1"
   },
   "outputs": [],
   "source": [
    "# This is a cell where students have to run to check whether their answers are in correct formats or not.\n",
    "# Don't change anything here.\n",
    "\n",
    "try:\n",
    "  assert(isinstance(freq_dict, dict))\n",
    "  print(\"Your answer is in a valid format. Hopefully, it is correct.\\n\")\n",
    "except:\n",
    "  print(\"Try again! Please make sure you produce a correct output for the problem.\\n\")"
   ]
  },
  {
   "cell_type": "markdown",
   "id": "2d8982ba",
   "metadata": {
    "application/vnd.databricks.v1+cell": {
     "inputWidgets": {},
     "nuid": "37790342-775f-4dc2-9854-5ee280663d78",
     "showTitle": false,
     "title": ""
    },
    "deletable": false,
    "lx_assignment_number": "2",
    "lx_assignment_type": "ASSIGNMENT",
    "lx_assignment_type2print": "Assignment",
    "lx_problem_cell_type": "PROBLEM",
    "lx_problem_number": "2",
    "lx_problem_points": "1"
   },
   "source": [
    "---\n",
    "## Assignment 2, PROBLEM 2\n",
    "Maximum Points = 1"
   ]
  },
  {
   "cell_type": "markdown",
   "id": "39feec50",
   "metadata": {
    "application/vnd.databricks.v1+cell": {
     "inputWidgets": {},
     "nuid": "37790342-775f-4dc2-9854-5ee280663d78",
     "showTitle": false,
     "title": ""
    },
    "deletable": false,
    "lx_assignment_number": "2",
    "lx_assignment_type": "ASSIGNMENT",
    "lx_assignment_type2print": "Assignment",
    "lx_problem_cell_type": "PROBLEM",
    "lx_problem_number": "2",
    "lx_problem_points": "1"
   },
   "source": [
    "\n",
    "Find only the distinct in the list below.\n",
    "\n",
    "> You also need to tag a markdown cell for a problem cell.<br>\n",
    "> All the tags will be later removed after notebook extraction."
   ]
  },
  {
   "cell_type": "code",
   "execution_count": 0,
   "id": "a54041ec",
   "metadata": {
    "application/vnd.databricks.v1+cell": {
     "inputWidgets": {},
     "nuid": "9d8abd59-31f5-4231-90e3-7bb688c7354d",
     "showTitle": false,
     "title": ""
    },
    "deletable": false,
    "lx_assignment_number": "2",
    "lx_assignment_type": "ASSIGNMENT",
    "lx_assignment_type2print": "Assignment",
    "lx_problem_cell_type": "PROBLEM",
    "lx_problem_number": "2",
    "lx_problem_points": "1",
    "scrolled": false
   },
   "outputs": [],
   "source": [
    "# This is a cell where students fill in answers or codes.\n",
    "\n",
    "raw_list = [2,3,3,2,5,10,2,4,4,4,9,10,4,2,9,7,1,6,1,1,1,10,5,8,7,10,4,3,7,2,3,1,6,9,9,6,1,9,6,10,4,5,9,1,2,1,1,10,4,6,1,5,9,3,2,3,8,7,1,3,6,9,7,1,10,4,4,8,1,6,4,2,1,8,6,4,2,2,9,9,7,9,4,7,10,9,2,10,2,8,10,3,4,7,4,6,4,7,5,10]\n",
    "# distinct_list = <<Fill-In-Here>> #Uncomment this line and replace <<Fill-In-Here>> with the correct operation\n",
    "\n",
    "print(distinct_list)"
   ]
  },
  {
   "cell_type": "markdown",
   "id": "b95a96e8",
   "metadata": {
    "application/vnd.databricks.v1+cell": {
     "inputWidgets": {},
     "nuid": "6d9abfdd-2441-40f4-aec2-7917f3a4541b",
     "showTitle": false,
     "title": ""
    },
    "deletable": false,
    "lx_assignment_number": "2",
    "lx_assignment_type": "ASSIGNMENT",
    "lx_assignment_type2print": "Assignment",
    "lx_problem_cell_type": "Test",
    "lx_problem_number": "2",
    "lx_problem_points": "1",
    "scrolled": false
   },
   "source": [
    "---\n",
    "#### Local Test for Assignment 2, PROBLEM 2\n",
    "Evaluate cell below to make sure your answer is valid.                                 You **should not** modify anything in the cell below when evaluating it to do a local test of                                 your solution.\n",
    "You may need to include and evaluate code snippets from lecture notebooks in cells above to make the local test work correctly sometimes (see error messages for clues). This is meant to help you become efficient at recalling materials covered in lectures that relate to this problem. Such local tests will generally not be available in the exam."
   ]
  },
  {
   "cell_type": "code",
   "execution_count": 0,
   "id": "20014637",
   "metadata": {
    "application/vnd.databricks.v1+cell": {
     "inputWidgets": {},
     "nuid": "6d9abfdd-2441-40f4-aec2-7917f3a4541b",
     "showTitle": false,
     "title": ""
    },
    "deletable": false,
    "lx_assignment_number": "2",
    "lx_assignment_type": "ASSIGNMENT",
    "lx_assignment_type2print": "Assignment",
    "lx_problem_cell_type": "Test",
    "lx_problem_number": "2",
    "lx_problem_points": "1",
    "scrolled": false
   },
   "outputs": [],
   "source": [
    "# This is a cell where students have to run to check whether their answers are in correct formats or not.\n",
    "# Don't change anything here.\n",
    "\n",
    "try:\n",
    "  assert(isinstance(distinct_list, list))\n",
    "  print(\"Your answer is in a valid format. Hopefully, it is correct.\\n\")\n",
    "except:\n",
    "  print(\"Try again! Please make sure you produce a correct output for the problem.\\n\")"
   ]
  }
 ],
 "metadata": {
  "lx_assignment_number": 2,
  "lx_course_instance": "2022",
  "lx_course_name": "Scalable Data Science and Distributed Machine Learning",
  "lx_course_number": "54514"
 },
 "nbformat": 4,
 "nbformat_minor": 5
}
